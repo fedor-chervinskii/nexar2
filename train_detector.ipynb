{
 "cells": [
  {
   "cell_type": "code",
   "execution_count": 1,
   "metadata": {
    "collapsed": true
   },
   "outputs": [],
   "source": [
    "import sys\n",
    "sys.path.append('/home/fedor/models')\n",
    "sys.path.append('/home/fedor/models/slim')"
   ]
  },
  {
   "cell_type": "code",
   "execution_count": 2,
   "metadata": {
    "collapsed": true
   },
   "outputs": [],
   "source": [
    "import os\n",
    "\n",
    "import functools\n",
    "import tensorflow as tf\n",
    "from google.protobuf import text_format\n",
    "\n",
    "from object_detection import trainer\n",
    "from object_detection import evaluator\n",
    "from object_detection.builders import model_builder\n",
    "from object_detection.builders import input_reader_builder\n",
    "from object_detection.protos import pipeline_pb2\n",
    "from object_detection.utils import label_map_util"
   ]
  },
  {
   "cell_type": "code",
   "execution_count": 3,
   "metadata": {
    "collapsed": true
   },
   "outputs": [],
   "source": [
    "config_path = 'ssd_mobilenet_v1_nexar.config'\n",
    "pipeline_config = pipeline_pb2.TrainEvalPipelineConfig()\n",
    "with tf.gfile.GFile(config_path, 'r') as f:\n",
    "    text_format.Merge(f.read(), pipeline_config)\n",
    "\n",
    "model_config = pipeline_config.model\n",
    "train_config = pipeline_config.train_config\n",
    "input_config = pipeline_config.train_input_reader"
   ]
  },
  {
   "cell_type": "code",
   "execution_count": 4,
   "metadata": {
    "collapsed": true
   },
   "outputs": [],
   "source": [
    "model_fn = functools.partial(model_builder.build, model_config=model_config, is_training=True)\n",
    "create_input_dict_fn = functools.partial(input_reader_builder.build, input_config)"
   ]
  },
  {
   "cell_type": "code",
   "execution_count": 5,
   "metadata": {},
   "outputs": [
    {
     "name": "stdout",
     "output_type": "stream",
     "text": [
      "Wed Aug 30 19:11:39 2017       \r\n",
      "+-----------------------------------------------------------------------------+\r\n",
      "| NVIDIA-SMI 378.13                 Driver Version: 378.13                    |\r\n",
      "|-------------------------------+----------------------+----------------------+\r\n",
      "| GPU  Name        Persistence-M| Bus-Id        Disp.A | Volatile Uncorr. ECC |\r\n",
      "| Fan  Temp  Perf  Pwr:Usage/Cap|         Memory-Usage | GPU-Util  Compute M. |\r\n",
      "|===============================+======================+======================|\r\n",
      "|   0  Graphics Device     Off  | 0000:01:00.0     Off |                  N/A |\r\n",
      "| 27%   44C    P8    19W / 250W |   6940MiB / 11170MiB |      0%      Default |\r\n",
      "+-------------------------------+----------------------+----------------------+\r\n",
      "|   1  Graphics Device     Off  | 0000:02:00.0     Off |                  N/A |\r\n",
      "| 24%   41C    P8    18W / 250W |      0MiB / 11172MiB |      0%      Default |\r\n",
      "+-------------------------------+----------------------+----------------------+\r\n",
      "                                                                               \r\n",
      "+-----------------------------------------------------------------------------+\r\n",
      "| Processes:                                                       GPU Memory |\r\n",
      "|  GPU       PID  Type  Process name                               Usage      |\r\n",
      "|=============================================================================|\r\n",
      "+-----------------------------------------------------------------------------+\r\n"
     ]
    }
   ],
   "source": [
    "!nvidia-smi"
   ]
  },
  {
   "cell_type": "code",
   "execution_count": null,
   "metadata": {
    "collapsed": true
   },
   "outputs": [],
   "source": [
    "os.environ[\"CUDA_VISIBLE_DEVICES\"] = \"1\""
   ]
  },
  {
   "cell_type": "code",
   "execution_count": null,
   "metadata": {},
   "outputs": [],
   "source": [
    "trainer.train(create_input_dict_fn, model_fn, train_config,\n",
    "              master='', task=0, num_clones=1,\n",
    "              worker_replicas=1, clone_on_cpu=False, ps_tasks=0,\n",
    "              worker_job_name='lonely_worker', is_chief=True, train_dir='./logs/train')"
   ]
  }
 ],
 "metadata": {
  "kernelspec": {
   "display_name": "Python 3",
   "language": "python",
   "name": "python3"
  },
  "language_info": {
   "codemirror_mode": {
    "name": "ipython",
    "version": 3
   },
   "file_extension": ".py",
   "mimetype": "text/x-python",
   "name": "python",
   "nbconvert_exporter": "python",
   "pygments_lexer": "ipython3",
   "version": "3.5.2"
  }
 },
 "nbformat": 4,
 "nbformat_minor": 2
}
