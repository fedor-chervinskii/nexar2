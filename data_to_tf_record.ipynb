{
 "cells": [
  {
   "cell_type": "code",
   "execution_count": 11,
   "metadata": {
    "collapsed": true
   },
   "outputs": [],
   "source": [
    "import io\n",
    "import os\n",
    "import tqdm\n",
    "import random\n",
    "import hashlib\n",
    "import PIL.Image\n",
    "import pandas as pd\n",
    "from tqdm import tqdm\n",
    "import tensorflow as tf\n",
    "from object_detection.utils import dataset_util"
   ]
  },
  {
   "cell_type": "code",
   "execution_count": 12,
   "metadata": {
    "collapsed": true
   },
   "outputs": [],
   "source": [
    "data_dir = '/mnt/data/nexar'\n",
    "image_dir = os.path.join(data_dir, 'images')\n",
    "annotations = pd.read_csv(os.path.join(data_dir, 'train.csv'))\n",
    "boxes = pd.read_csv(os.path.join(data_dir, 'train_boxes.csv'))"
   ]
  },
  {
   "cell_type": "code",
   "execution_count": 13,
   "metadata": {},
   "outputs": [
    {
     "data": {
      "text/html": [
       "<div>\n",
       "<style>\n",
       "    .dataframe thead tr:only-child th {\n",
       "        text-align: right;\n",
       "    }\n",
       "\n",
       "    .dataframe thead th {\n",
       "        text-align: left;\n",
       "    }\n",
       "\n",
       "    .dataframe tbody tr th {\n",
       "        vertical-align: top;\n",
       "    }\n",
       "</style>\n",
       "<table border=\"1\" class=\"dataframe\">\n",
       "  <thead>\n",
       "    <tr style=\"text-align: right;\">\n",
       "      <th></th>\n",
       "      <th>image_filename</th>\n",
       "      <th>lighting</th>\n",
       "      <th>city</th>\n",
       "    </tr>\n",
       "  </thead>\n",
       "  <tbody>\n",
       "    <tr>\n",
       "      <th>0</th>\n",
       "      <td>frame_20f328fa-2459-46d0-97a5-5ae2d6103cb0_000...</td>\n",
       "      <td>Twilight</td>\n",
       "      <td>NYC</td>\n",
       "    </tr>\n",
       "    <tr>\n",
       "      <th>1</th>\n",
       "      <td>frame_927bde20-f97f-48c2-af30-f9127b6b32ce_000...</td>\n",
       "      <td>Day</td>\n",
       "      <td>NYC</td>\n",
       "    </tr>\n",
       "    <tr>\n",
       "      <th>2</th>\n",
       "      <td>frame_67012509-f3bd-4175-a9d2-565a7b6bb3c7_000...</td>\n",
       "      <td>Day</td>\n",
       "      <td>NYC</td>\n",
       "    </tr>\n",
       "    <tr>\n",
       "      <th>3</th>\n",
       "      <td>frame_bd043377-6fb8-407a-95e5-7deb1fbab13a_000...</td>\n",
       "      <td>Day</td>\n",
       "      <td>NYC</td>\n",
       "    </tr>\n",
       "    <tr>\n",
       "      <th>4</th>\n",
       "      <td>frame_4da1583b-58d0-4893-8149-54541191031d_000...</td>\n",
       "      <td>Day</td>\n",
       "      <td>NYC</td>\n",
       "    </tr>\n",
       "  </tbody>\n",
       "</table>\n",
       "</div>"
      ],
      "text/plain": [
       "                                      image_filename  lighting city\n",
       "0  frame_20f328fa-2459-46d0-97a5-5ae2d6103cb0_000...  Twilight  NYC\n",
       "1  frame_927bde20-f97f-48c2-af30-f9127b6b32ce_000...       Day  NYC\n",
       "2  frame_67012509-f3bd-4175-a9d2-565a7b6bb3c7_000...       Day  NYC\n",
       "3  frame_bd043377-6fb8-407a-95e5-7deb1fbab13a_000...       Day  NYC\n",
       "4  frame_4da1583b-58d0-4893-8149-54541191031d_000...       Day  NYC"
      ]
     },
     "execution_count": 13,
     "metadata": {},
     "output_type": "execute_result"
    }
   ],
   "source": [
    "annotations[:5]"
   ]
  },
  {
   "cell_type": "code",
   "execution_count": 14,
   "metadata": {},
   "outputs": [
    {
     "data": {
      "text/html": [
       "<div>\n",
       "<style>\n",
       "    .dataframe thead tr:only-child th {\n",
       "        text-align: right;\n",
       "    }\n",
       "\n",
       "    .dataframe thead th {\n",
       "        text-align: left;\n",
       "    }\n",
       "\n",
       "    .dataframe tbody tr th {\n",
       "        vertical-align: top;\n",
       "    }\n",
       "</style>\n",
       "<table border=\"1\" class=\"dataframe\">\n",
       "  <thead>\n",
       "    <tr style=\"text-align: right;\">\n",
       "      <th></th>\n",
       "      <th>image_filename</th>\n",
       "      <th>x0</th>\n",
       "      <th>y0</th>\n",
       "      <th>x1</th>\n",
       "      <th>y1</th>\n",
       "      <th>label</th>\n",
       "      <th>confidence</th>\n",
       "    </tr>\n",
       "  </thead>\n",
       "  <tbody>\n",
       "    <tr>\n",
       "      <th>0</th>\n",
       "      <td>frame_817c47b8-22c4-438a-8dc6-0e3f67f299ee_000...</td>\n",
       "      <td>601.600000</td>\n",
       "      <td>270.355731</td>\n",
       "      <td>726.755556</td>\n",
       "      <td>421.185771</td>\n",
       "      <td>van</td>\n",
       "      <td>1.0</td>\n",
       "    </tr>\n",
       "    <tr>\n",
       "      <th>1</th>\n",
       "      <td>frame_817c47b8-22c4-438a-8dc6-0e3f67f299ee_000...</td>\n",
       "      <td>497.777778</td>\n",
       "      <td>308.774704</td>\n",
       "      <td>534.755556</td>\n",
       "      <td>338.656126</td>\n",
       "      <td>car</td>\n",
       "      <td>1.0</td>\n",
       "    </tr>\n",
       "    <tr>\n",
       "      <th>2</th>\n",
       "      <td>frame_817c47b8-22c4-438a-8dc6-0e3f67f299ee_000...</td>\n",
       "      <td>449.422222</td>\n",
       "      <td>310.197628</td>\n",
       "      <td>509.155556</td>\n",
       "      <td>358.577075</td>\n",
       "      <td>car</td>\n",
       "      <td>1.0</td>\n",
       "    </tr>\n",
       "    <tr>\n",
       "      <th>3</th>\n",
       "      <td>frame_a9110bf2-5252-4ec6-83c6-33b65d0fc04d_000...</td>\n",
       "      <td>711.111111</td>\n",
       "      <td>304.505929</td>\n",
       "      <td>786.488889</td>\n",
       "      <td>368.537549</td>\n",
       "      <td>car</td>\n",
       "      <td>1.0</td>\n",
       "    </tr>\n",
       "    <tr>\n",
       "      <th>4</th>\n",
       "      <td>frame_a9110bf2-5252-4ec6-83c6-33b65d0fc04d_000...</td>\n",
       "      <td>584.533333</td>\n",
       "      <td>307.351779</td>\n",
       "      <td>647.111111</td>\n",
       "      <td>358.577075</td>\n",
       "      <td>car</td>\n",
       "      <td>1.0</td>\n",
       "    </tr>\n",
       "  </tbody>\n",
       "</table>\n",
       "</div>"
      ],
      "text/plain": [
       "                                      image_filename          x0          y0  \\\n",
       "0  frame_817c47b8-22c4-438a-8dc6-0e3f67f299ee_000...  601.600000  270.355731   \n",
       "1  frame_817c47b8-22c4-438a-8dc6-0e3f67f299ee_000...  497.777778  308.774704   \n",
       "2  frame_817c47b8-22c4-438a-8dc6-0e3f67f299ee_000...  449.422222  310.197628   \n",
       "3  frame_a9110bf2-5252-4ec6-83c6-33b65d0fc04d_000...  711.111111  304.505929   \n",
       "4  frame_a9110bf2-5252-4ec6-83c6-33b65d0fc04d_000...  584.533333  307.351779   \n",
       "\n",
       "           x1          y1 label  confidence  \n",
       "0  726.755556  421.185771   van         1.0  \n",
       "1  534.755556  338.656126   car         1.0  \n",
       "2  509.155556  358.577075   car         1.0  \n",
       "3  786.488889  368.537549   car         1.0  \n",
       "4  647.111111  358.577075   car         1.0  "
      ]
     },
     "execution_count": 14,
     "metadata": {},
     "output_type": "execute_result"
    }
   ],
   "source": [
    "boxes[:5]"
   ]
  },
  {
   "cell_type": "code",
   "execution_count": 15,
   "metadata": {},
   "outputs": [
    {
     "name": "stdout",
     "output_type": "stream",
     "text": [
      "{'pickup_truck': 1, 'car': 2, 'van': 3, 'bus': 4, 'truck': 5}\n"
     ]
    }
   ],
   "source": [
    "label_map_dict = {}\n",
    "for i, l in enumerate(set(boxes['label'])):\n",
    "    label_map_dict[l] = i + 1\n",
    "print(label_map_dict)"
   ]
  },
  {
   "cell_type": "code",
   "execution_count": 16,
   "metadata": {},
   "outputs": [
    {
     "name": "stdout",
     "output_type": "stream",
     "text": [
      "35000 training and 15000 validation examples.\n"
     ]
    }
   ],
   "source": [
    "examples_list = list(annotations['image_filename'])\n",
    "\n",
    "# Test images are not included in the downloaded data set, so we shall perform\n",
    "# our own split.\n",
    "random.seed(42)\n",
    "random.shuffle(examples_list)\n",
    "num_examples = len(examples_list)\n",
    "num_train = int(0.7 * num_examples)\n",
    "train_examples = examples_list[:num_train]\n",
    "val_examples = examples_list[num_train:]\n",
    "print('%d training and %d validation examples.' % (len(train_examples), len(val_examples)))"
   ]
  },
  {
   "cell_type": "code",
   "execution_count": 17,
   "metadata": {
    "collapsed": true
   },
   "outputs": [],
   "source": [
    "def create_tf_example(df, label_map_dict, image_dir, image_filename):\n",
    "    img_path = os.path.join(image_dir, image_filename)\n",
    "    with tf.gfile.GFile(img_path, 'rb') as fid:\n",
    "        encoded_jpg = fid.read()\n",
    "    encoded_jpg_io = io.BytesIO(encoded_jpg)\n",
    "    image = PIL.Image.open(encoded_jpg_io)\n",
    "    if image.format != 'JPEG':\n",
    "        raise ValueError('Image format not JPEG')\n",
    "    key = hashlib.sha256(encoded_jpg).hexdigest()\n",
    "    width = image.width\n",
    "    height = image.height\n",
    "\n",
    "    xmin = []\n",
    "    ymin = []\n",
    "    xmax = []\n",
    "    ymax = []\n",
    "    classes = []\n",
    "    classes_text = []\n",
    "    for idx, obj in df.iterrows():\n",
    "        xmin.append(obj['x0'] / width)\n",
    "        ymin.append(obj['y0'] / height)\n",
    "        xmax.append(obj['x1'] / width)\n",
    "        ymax.append(obj['y1'] / height)\n",
    "        class_name = obj['label']\n",
    "        classes_text.append(class_name.encode('utf8'))\n",
    "        classes.append(label_map_dict[class_name])\n",
    "\n",
    "    example = tf.train.Example(features=tf.train.Features(feature={\n",
    "      'image/height': dataset_util.int64_feature(height),\n",
    "      'image/width': dataset_util.int64_feature(width),\n",
    "      'image/filename': dataset_util.bytes_feature(image_filename.encode('utf8')),\n",
    "      'image/source_id': dataset_util.bytes_feature(image_filename.encode('utf8')),\n",
    "      'image/key/sha256': dataset_util.bytes_feature(key.encode('utf8')),\n",
    "      'image/encoded': dataset_util.bytes_feature(encoded_jpg),\n",
    "      'image/format': dataset_util.bytes_feature('jpeg'.encode('utf8')),\n",
    "      'image/object/bbox/xmin': dataset_util.float_list_feature(xmin),\n",
    "      'image/object/bbox/xmax': dataset_util.float_list_feature(xmax),\n",
    "      'image/object/bbox/ymin': dataset_util.float_list_feature(ymin),\n",
    "      'image/object/bbox/ymax': dataset_util.float_list_feature(ymax),\n",
    "      'image/object/class/text': dataset_util.bytes_list_feature(classes_text),\n",
    "      'image/object/class/label': dataset_util.int64_list_feature(classes),\n",
    "    }))\n",
    "    return example    \n",
    "\n",
    "def create_tf_record(output_filename,\n",
    "                     label_map_dict,\n",
    "                     dataframe,\n",
    "                     image_dir,\n",
    "                     examples):\n",
    "    \"\"\"Creates a TFRecord file from examples.\n",
    "    \"\"\"\n",
    "    writer = tf.python_io.TFRecordWriter(output_filename)\n",
    "    for idx, example in tqdm(enumerate(examples)):\n",
    "        df = dataframe[dataframe['image_filename'] == example]\n",
    "        tf_example = create_tf_example(df, label_map_dict, image_dir, example)\n",
    "        writer.write(tf_example.SerializeToString())\n",
    "    writer.close()"
   ]
  },
  {
   "cell_type": "code",
   "execution_count": 18,
   "metadata": {},
   "outputs": [
    {
     "name": "stderr",
     "output_type": "stream",
     "text": [
      "35000it [14:56, 39.04it/s]\n",
      "15000it [07:03, 35.20it/s]\n"
     ]
    }
   ],
   "source": [
    "train_output_path = os.path.join(data_dir, 'nexar_train.record')\n",
    "val_output_path = os.path.join(data_dir, 'nexar_val.record')\n",
    "create_tf_record(train_output_path, label_map_dict, boxes,\n",
    "               image_dir, train_examples)\n",
    "create_tf_record(val_output_path, label_map_dict, boxes,\n",
    "               image_dir, val_examples)"
   ]
  }
 ],
 "metadata": {
  "kernelspec": {
   "display_name": "Python 3",
   "language": "python",
   "name": "python3"
  },
  "language_info": {
   "codemirror_mode": {
    "name": "ipython",
    "version": 3
   },
   "file_extension": ".py",
   "mimetype": "text/x-python",
   "name": "python",
   "nbconvert_exporter": "python",
   "pygments_lexer": "ipython3",
   "version": "3.5.2"
  }
 },
 "nbformat": 4,
 "nbformat_minor": 2
}
